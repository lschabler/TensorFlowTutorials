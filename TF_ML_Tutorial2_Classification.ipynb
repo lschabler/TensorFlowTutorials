{
  "nbformat": 4,
  "nbformat_minor": 0,
  "metadata": {
    "colab": {
      "name": "TF_ML_Tutorial2_Classification.ipynb",
      "provenance": [],
      "collapsed_sections": [],
      "authorship_tag": "ABX9TyMGnWXWV1yLngHoqhMABtkk",
      "include_colab_link": true
    },
    "kernelspec": {
      "name": "python3",
      "display_name": "Python 3"
    }
  },
  "cells": [
    {
      "cell_type": "markdown",
      "metadata": {
        "id": "view-in-github",
        "colab_type": "text"
      },
      "source": [
        "<a href=\"https://colab.research.google.com/github/lschabler/TensorFlowTutorials/blob/main/TF_ML_Tutorial2_Classification.ipynb\" target=\"_parent\"><img src=\"https://colab.research.google.com/assets/colab-badge.svg\" alt=\"Open In Colab\"/></a>"
      ]
    },
    {
      "cell_type": "markdown",
      "metadata": {
        "id": "GxA9apIn2w83"
      },
      "source": [
        "https://www.youtube.com/watch?v=tPYj3fFJGjk"
      ]
    },
    {
      "cell_type": "code",
      "metadata": {
        "id": "xfidWnFiz5aN",
        "colab": {
          "base_uri": "https://localhost:8080/"
        },
        "outputId": "dbe1b22a-f05b-427b-f94b-48329d138712"
      },
      "source": [
        "!pip install -q sklearn\n",
        "%tensorflow_version 2.x\n",
        "import tensorflow as tf\n",
        "print(tf.version)\n",
        "\n",
        "from __future__ import absolute_import, division, print_function, unicode_literals\n",
        "\n",
        "import numpy as np\n",
        "import pandas as pd\n",
        "import matplotlib.pyplot as plt\n",
        "from IPython.display import clear_output\n",
        "from six.moves import urllib\n"
      ],
      "execution_count": null,
      "outputs": [
        {
          "output_type": "stream",
          "text": [
            "<module 'tensorflow._api.v2.version' from '/usr/local/lib/python3.7/dist-packages/tensorflow/_api/v2/version/__init__.py'>\n"
          ],
          "name": "stdout"
        }
      ]
    },
    {
      "cell_type": "code",
      "metadata": {
        "colab": {
          "base_uri": "https://localhost:8080/",
          "height": 204
        },
        "id": "RoyFT6dihK4z",
        "outputId": "169a997d-9e20-40af-de47-17fd72120892"
      },
      "source": [
        "CSV_COLUMN_NAMES = ['SepalLength', 'SepalWidth', 'PetalLength', 'PetalWidth', 'Species']\n",
        "SPECIES = ['Setosa', 'Versicolor', 'Virginica']\n",
        "\n",
        "train_path = tf.keras.utils.get_file(\n",
        "    \"iris_training.csv\", \"https://storage.googleapis.com/download.tensorflow.org/data/iris_training.csv\")\n",
        "test_path = tf.keras.utils.get_file(\n",
        "    \"iris_test.csv\", \"https://storage.googleapis.com/download.tensorflow.org/data/iris_test.csv\")\n",
        "\n",
        "train = pd.read_csv(train_path, names=CSV_COLUMN_NAMES, header=0)\n",
        "test = pd.read_csv(test_path, names=CSV_COLUMN_NAMES, header=0)\n",
        "\n",
        "train.head()"
      ],
      "execution_count": null,
      "outputs": [
        {
          "output_type": "execute_result",
          "data": {
            "text/html": [
              "<div>\n",
              "<style scoped>\n",
              "    .dataframe tbody tr th:only-of-type {\n",
              "        vertical-align: middle;\n",
              "    }\n",
              "\n",
              "    .dataframe tbody tr th {\n",
              "        vertical-align: top;\n",
              "    }\n",
              "\n",
              "    .dataframe thead th {\n",
              "        text-align: right;\n",
              "    }\n",
              "</style>\n",
              "<table border=\"1\" class=\"dataframe\">\n",
              "  <thead>\n",
              "    <tr style=\"text-align: right;\">\n",
              "      <th></th>\n",
              "      <th>SepalLength</th>\n",
              "      <th>SepalWidth</th>\n",
              "      <th>PetalLength</th>\n",
              "      <th>PetalWidth</th>\n",
              "      <th>Species</th>\n",
              "    </tr>\n",
              "  </thead>\n",
              "  <tbody>\n",
              "    <tr>\n",
              "      <th>0</th>\n",
              "      <td>6.4</td>\n",
              "      <td>2.8</td>\n",
              "      <td>5.6</td>\n",
              "      <td>2.2</td>\n",
              "      <td>2</td>\n",
              "    </tr>\n",
              "    <tr>\n",
              "      <th>1</th>\n",
              "      <td>5.0</td>\n",
              "      <td>2.3</td>\n",
              "      <td>3.3</td>\n",
              "      <td>1.0</td>\n",
              "      <td>1</td>\n",
              "    </tr>\n",
              "    <tr>\n",
              "      <th>2</th>\n",
              "      <td>4.9</td>\n",
              "      <td>2.5</td>\n",
              "      <td>4.5</td>\n",
              "      <td>1.7</td>\n",
              "      <td>2</td>\n",
              "    </tr>\n",
              "    <tr>\n",
              "      <th>3</th>\n",
              "      <td>4.9</td>\n",
              "      <td>3.1</td>\n",
              "      <td>1.5</td>\n",
              "      <td>0.1</td>\n",
              "      <td>0</td>\n",
              "    </tr>\n",
              "    <tr>\n",
              "      <th>4</th>\n",
              "      <td>5.7</td>\n",
              "      <td>3.8</td>\n",
              "      <td>1.7</td>\n",
              "      <td>0.3</td>\n",
              "      <td>0</td>\n",
              "    </tr>\n",
              "  </tbody>\n",
              "</table>\n",
              "</div>"
            ],
            "text/plain": [
              "   SepalLength  SepalWidth  PetalLength  PetalWidth  Species\n",
              "0          6.4         2.8          5.6         2.2        2\n",
              "1          5.0         2.3          3.3         1.0        1\n",
              "2          4.9         2.5          4.5         1.7        2\n",
              "3          4.9         3.1          1.5         0.1        0\n",
              "4          5.7         3.8          1.7         0.3        0"
            ]
          },
          "metadata": {
            "tags": []
          },
          "execution_count": 2
        }
      ]
    },
    {
      "cell_type": "code",
      "metadata": {
        "colab": {
          "base_uri": "https://localhost:8080/"
        },
        "id": "fLmVJf5ghpou",
        "outputId": "865f35ef-59a1-4945-d05f-3a2645df7761"
      },
      "source": [
        "train_y = train.pop('Species')\n",
        "test_y = test.pop('Species')\n",
        "\n",
        "train.shape"
      ],
      "execution_count": null,
      "outputs": [
        {
          "output_type": "execute_result",
          "data": {
            "text/plain": [
              "(120, 4)"
            ]
          },
          "metadata": {
            "tags": []
          },
          "execution_count": 3
        }
      ]
    },
    {
      "cell_type": "code",
      "metadata": {
        "id": "lJoaCXe6iN-K"
      },
      "source": [
        "def input_fn(features, labels, training=True, batch_size=256):\n",
        "    # Convert the inputs to a Dataset.\n",
        "    dataset = tf.data.Dataset.from_tensor_slices((dict(features), labels))\n",
        "\n",
        "    # Shuffle and repeat if you are in training mode.\n",
        "    if training:\n",
        "        dataset = dataset.shuffle(1000).repeat()\n",
        "    \n",
        "    return dataset.batch(batch_size)"
      ],
      "execution_count": null,
      "outputs": []
    },
    {
      "cell_type": "code",
      "metadata": {
        "colab": {
          "base_uri": "https://localhost:8080/"
        },
        "id": "YR_ZasqMjbJX",
        "outputId": "267ff564-8392-47b0-fded-8576029e454c"
      },
      "source": [
        "# Feature columns describe how to use the input.\n",
        "my_feature_columns = []\n",
        "for key in train.keys():\n",
        "    my_feature_columns.append(tf.feature_column.numeric_column(key=key))\n",
        "print(my_feature_columns)"
      ],
      "execution_count": null,
      "outputs": [
        {
          "output_type": "stream",
          "text": [
            "[NumericColumn(key='SepalLength', shape=(1,), default_value=None, dtype=tf.float32, normalizer_fn=None), NumericColumn(key='SepalWidth', shape=(1,), default_value=None, dtype=tf.float32, normalizer_fn=None), NumericColumn(key='PetalLength', shape=(1,), default_value=None, dtype=tf.float32, normalizer_fn=None), NumericColumn(key='PetalWidth', shape=(1,), default_value=None, dtype=tf.float32, normalizer_fn=None)]\n"
          ],
          "name": "stdout"
        }
      ]
    },
    {
      "cell_type": "code",
      "metadata": {
        "colab": {
          "base_uri": "https://localhost:8080/"
        },
        "id": "TUONcvLCkA4t",
        "outputId": "00757a0b-b1de-46be-c827-77ef5b7236d1"
      },
      "source": [
        "# Build a DNN with 2 hidden layers with 30 and 10 hidden nodes each.\n",
        "classifier = tf.estimator.DNNClassifier(\n",
        "    feature_columns=my_feature_columns,\n",
        "    # Two hidden layers of 30 and 10 nodes respectively.\n",
        "    hidden_units=[30, 10],\n",
        "    # The model must choose between 3 classes.\n",
        "    n_classes=3)\n",
        "\n",
        "classifier.train(\n",
        "    input_fn=lambda: input_fn(train, train_y, training=True),\n",
        "    steps=5000)\n",
        "# We include a lambda to avoid creating an inner function previously"
      ],
      "execution_count": null,
      "outputs": [
        {
          "output_type": "stream",
          "text": [
            "INFO:tensorflow:Using default config.\n",
            "WARNING:tensorflow:Using temporary folder as model directory: /tmp/tmpmutqifxx\n",
            "INFO:tensorflow:Using config: {'_model_dir': '/tmp/tmpmutqifxx', '_tf_random_seed': None, '_save_summary_steps': 100, '_save_checkpoints_steps': None, '_save_checkpoints_secs': 600, '_session_config': allow_soft_placement: true\n",
            "graph_options {\n",
            "  rewrite_options {\n",
            "    meta_optimizer_iterations: ONE\n",
            "  }\n",
            "}\n",
            ", '_keep_checkpoint_max': 5, '_keep_checkpoint_every_n_hours': 10000, '_log_step_count_steps': 100, '_train_distribute': None, '_device_fn': None, '_protocol': None, '_eval_distribute': None, '_experimental_distribute': None, '_experimental_max_worker_delay_secs': None, '_session_creation_timeout_secs': 7200, '_checkpoint_save_graph_def': True, '_service': None, '_cluster_spec': ClusterSpec({}), '_task_type': 'worker', '_task_id': 0, '_global_id_in_cluster': 0, '_master': '', '_evaluation_master': '', '_is_chief': True, '_num_ps_replicas': 0, '_num_worker_replicas': 1}\n",
            "INFO:tensorflow:Calling model_fn.\n",
            "INFO:tensorflow:Done calling model_fn.\n",
            "INFO:tensorflow:Create CheckpointSaverHook.\n",
            "INFO:tensorflow:Graph was finalized.\n",
            "INFO:tensorflow:Running local_init_op.\n",
            "INFO:tensorflow:Done running local_init_op.\n",
            "INFO:tensorflow:Calling checkpoint listeners before saving checkpoint 0...\n",
            "INFO:tensorflow:Saving checkpoints for 0 into /tmp/tmpmutqifxx/model.ckpt.\n",
            "INFO:tensorflow:Calling checkpoint listeners after saving checkpoint 0...\n",
            "INFO:tensorflow:loss = 1.5118986, step = 0\n",
            "INFO:tensorflow:global_step/sec: 460.832\n",
            "INFO:tensorflow:loss = 1.1197035, step = 100 (0.223 sec)\n",
            "INFO:tensorflow:global_step/sec: 553.52\n",
            "INFO:tensorflow:loss = 1.0590577, step = 200 (0.179 sec)\n",
            "INFO:tensorflow:global_step/sec: 583.691\n",
            "INFO:tensorflow:loss = 1.0297341, step = 300 (0.172 sec)\n",
            "INFO:tensorflow:global_step/sec: 568.683\n",
            "INFO:tensorflow:loss = 1.0101728, step = 400 (0.172 sec)\n",
            "INFO:tensorflow:global_step/sec: 581.814\n",
            "INFO:tensorflow:loss = 0.9783225, step = 500 (0.173 sec)\n",
            "INFO:tensorflow:global_step/sec: 544.039\n",
            "INFO:tensorflow:loss = 0.94804, step = 600 (0.186 sec)\n",
            "INFO:tensorflow:global_step/sec: 532.009\n",
            "INFO:tensorflow:loss = 0.9282728, step = 700 (0.185 sec)\n",
            "INFO:tensorflow:global_step/sec: 553.995\n",
            "INFO:tensorflow:loss = 0.91434306, step = 800 (0.184 sec)\n",
            "INFO:tensorflow:global_step/sec: 563.373\n",
            "INFO:tensorflow:loss = 0.8897557, step = 900 (0.177 sec)\n",
            "INFO:tensorflow:global_step/sec: 572.88\n",
            "INFO:tensorflow:loss = 0.8779863, step = 1000 (0.174 sec)\n",
            "INFO:tensorflow:global_step/sec: 541.042\n",
            "INFO:tensorflow:loss = 0.861675, step = 1100 (0.185 sec)\n",
            "INFO:tensorflow:global_step/sec: 537.88\n",
            "INFO:tensorflow:loss = 0.84627146, step = 1200 (0.183 sec)\n",
            "INFO:tensorflow:global_step/sec: 554.066\n",
            "INFO:tensorflow:loss = 0.8291264, step = 1300 (0.184 sec)\n",
            "INFO:tensorflow:global_step/sec: 540.321\n",
            "INFO:tensorflow:loss = 0.8165548, step = 1400 (0.186 sec)\n",
            "INFO:tensorflow:global_step/sec: 580.834\n",
            "INFO:tensorflow:loss = 0.80325115, step = 1500 (0.169 sec)\n",
            "INFO:tensorflow:global_step/sec: 559.528\n",
            "INFO:tensorflow:loss = 0.78501856, step = 1600 (0.177 sec)\n",
            "INFO:tensorflow:global_step/sec: 533.783\n",
            "INFO:tensorflow:loss = 0.76965207, step = 1700 (0.192 sec)\n",
            "INFO:tensorflow:global_step/sec: 552.527\n",
            "INFO:tensorflow:loss = 0.76352334, step = 1800 (0.177 sec)\n",
            "INFO:tensorflow:global_step/sec: 519.112\n",
            "INFO:tensorflow:loss = 0.76574147, step = 1900 (0.193 sec)\n",
            "INFO:tensorflow:global_step/sec: 543.446\n",
            "INFO:tensorflow:loss = 0.7425655, step = 2000 (0.187 sec)\n",
            "INFO:tensorflow:global_step/sec: 537.473\n",
            "INFO:tensorflow:loss = 0.73512566, step = 2100 (0.186 sec)\n",
            "INFO:tensorflow:global_step/sec: 561.262\n",
            "INFO:tensorflow:loss = 0.7166575, step = 2200 (0.179 sec)\n",
            "INFO:tensorflow:global_step/sec: 565.647\n",
            "INFO:tensorflow:loss = 0.72211194, step = 2300 (0.172 sec)\n",
            "INFO:tensorflow:global_step/sec: 556.234\n",
            "INFO:tensorflow:loss = 0.70045674, step = 2400 (0.184 sec)\n",
            "INFO:tensorflow:global_step/sec: 487.131\n",
            "INFO:tensorflow:loss = 0.68321764, step = 2500 (0.205 sec)\n",
            "INFO:tensorflow:global_step/sec: 496.433\n",
            "INFO:tensorflow:loss = 0.6833336, step = 2600 (0.202 sec)\n",
            "INFO:tensorflow:global_step/sec: 574.277\n",
            "INFO:tensorflow:loss = 0.66752106, step = 2700 (0.173 sec)\n",
            "INFO:tensorflow:global_step/sec: 554.178\n",
            "INFO:tensorflow:loss = 0.66310215, step = 2800 (0.178 sec)\n",
            "INFO:tensorflow:global_step/sec: 570.171\n",
            "INFO:tensorflow:loss = 0.64629114, step = 2900 (0.175 sec)\n",
            "INFO:tensorflow:global_step/sec: 525.153\n",
            "INFO:tensorflow:loss = 0.64418226, step = 3000 (0.191 sec)\n",
            "INFO:tensorflow:global_step/sec: 546.03\n",
            "INFO:tensorflow:loss = 0.625785, step = 3100 (0.186 sec)\n",
            "INFO:tensorflow:global_step/sec: 559.495\n",
            "INFO:tensorflow:loss = 0.6243484, step = 3200 (0.179 sec)\n",
            "INFO:tensorflow:global_step/sec: 555.721\n",
            "INFO:tensorflow:loss = 0.6089457, step = 3300 (0.180 sec)\n",
            "INFO:tensorflow:global_step/sec: 562.652\n",
            "INFO:tensorflow:loss = 0.612461, step = 3400 (0.178 sec)\n",
            "INFO:tensorflow:global_step/sec: 551.866\n",
            "INFO:tensorflow:loss = 0.583392, step = 3500 (0.181 sec)\n",
            "INFO:tensorflow:global_step/sec: 556.562\n",
            "INFO:tensorflow:loss = 0.58202446, step = 3600 (0.178 sec)\n",
            "INFO:tensorflow:global_step/sec: 517.787\n",
            "INFO:tensorflow:loss = 0.5721472, step = 3700 (0.194 sec)\n",
            "INFO:tensorflow:global_step/sec: 579.395\n",
            "INFO:tensorflow:loss = 0.565365, step = 3800 (0.174 sec)\n",
            "INFO:tensorflow:global_step/sec: 593.093\n",
            "INFO:tensorflow:loss = 0.56909484, step = 3900 (0.164 sec)\n",
            "INFO:tensorflow:global_step/sec: 615.046\n",
            "INFO:tensorflow:loss = 0.56049883, step = 4000 (0.163 sec)\n",
            "INFO:tensorflow:global_step/sec: 600.484\n",
            "INFO:tensorflow:loss = 0.5413188, step = 4100 (0.166 sec)\n",
            "INFO:tensorflow:global_step/sec: 548.609\n",
            "INFO:tensorflow:loss = 0.5371232, step = 4200 (0.186 sec)\n",
            "INFO:tensorflow:global_step/sec: 543.016\n",
            "INFO:tensorflow:loss = 0.5337245, step = 4300 (0.184 sec)\n",
            "INFO:tensorflow:global_step/sec: 564.671\n",
            "INFO:tensorflow:loss = 0.5376567, step = 4400 (0.177 sec)\n",
            "INFO:tensorflow:global_step/sec: 591.633\n",
            "INFO:tensorflow:loss = 0.5166428, step = 4500 (0.166 sec)\n",
            "INFO:tensorflow:global_step/sec: 608.665\n",
            "INFO:tensorflow:loss = 0.5090566, step = 4600 (0.164 sec)\n",
            "INFO:tensorflow:global_step/sec: 561.857\n",
            "INFO:tensorflow:loss = 0.510654, step = 4700 (0.178 sec)\n",
            "INFO:tensorflow:global_step/sec: 622.265\n",
            "INFO:tensorflow:loss = 0.4974351, step = 4800 (0.161 sec)\n",
            "INFO:tensorflow:global_step/sec: 511.115\n",
            "INFO:tensorflow:loss = 0.487447, step = 4900 (0.200 sec)\n",
            "INFO:tensorflow:Calling checkpoint listeners before saving checkpoint 5000...\n",
            "INFO:tensorflow:Saving checkpoints for 5000 into /tmp/tmpmutqifxx/model.ckpt.\n",
            "INFO:tensorflow:Calling checkpoint listeners after saving checkpoint 5000...\n",
            "INFO:tensorflow:Loss for final step: 0.48574018.\n"
          ],
          "name": "stdout"
        },
        {
          "output_type": "execute_result",
          "data": {
            "text/plain": [
              "<tensorflow_estimator.python.estimator.canned.dnn.DNNClassifierV2 at 0x7f3ee7467c50>"
            ]
          },
          "metadata": {
            "tags": []
          },
          "execution_count": 10
        }
      ]
    },
    {
      "cell_type": "code",
      "metadata": {
        "colab": {
          "base_uri": "https://localhost:8080/"
        },
        "id": "I4t4TgX-lOKi",
        "outputId": "2fc5f65e-edb4-4477-be05-7ecfe16f6666"
      },
      "source": [
        "eval_result = classifier.evaluate(input_fn=lambda: input_fn(test, test_y, training=False))\n",
        "print('\\nTest set accuracy: {accuracy:0.3f}\\n'.format(**eval_result))"
      ],
      "execution_count": null,
      "outputs": [
        {
          "output_type": "stream",
          "text": [
            "INFO:tensorflow:Calling model_fn.\n",
            "INFO:tensorflow:Done calling model_fn.\n",
            "INFO:tensorflow:Starting evaluation at 2021-05-15T10:33:58Z\n",
            "INFO:tensorflow:Graph was finalized.\n",
            "INFO:tensorflow:Restoring parameters from /tmp/tmpmutqifxx/model.ckpt-5000\n",
            "INFO:tensorflow:Running local_init_op.\n",
            "INFO:tensorflow:Done running local_init_op.\n",
            "INFO:tensorflow:Inference Time : 0.51102s\n",
            "INFO:tensorflow:Finished evaluation at 2021-05-15-10:33:59\n",
            "INFO:tensorflow:Saving dict for global step 5000: accuracy = 0.93333334, average_loss = 0.5429371, global_step = 5000, loss = 0.5429371\n",
            "INFO:tensorflow:Saving 'checkpoint_path' summary for global step 5000: /tmp/tmpmutqifxx/model.ckpt-5000\n",
            "\n",
            "Test set accuracy: 0.933\n",
            "\n"
          ],
          "name": "stdout"
        }
      ]
    },
    {
      "cell_type": "code",
      "metadata": {
        "colab": {
          "base_uri": "https://localhost:8080/"
        },
        "id": "gf_dFMqwl1dV",
        "outputId": "bb8d59ab-69e5-4b7f-827d-920ff984d102"
      },
      "source": [
        "def input_fn(features, batch_size=256):\n",
        "    # Convert the inputs to a Dataset without labels.\n",
        "    return tf.data.Dataset.from_tensor_slices(dict(features)).batch(batch_size)\n",
        "\n",
        "features = ['SepalLength', 'SepalWidth', 'PetalLength', 'PetalWidth']\n",
        "predict = {}\n",
        "\n",
        "print(\"Please type numeric values as prompted.\")\n",
        "for feature in features:\n",
        "  valid = True\n",
        "  while valid: \n",
        "    val = input(feature + \": \")\n",
        "    if not val.isdigit(): valid = False\n",
        "\n",
        "  predict[feature] = [float(val)]\n",
        "\n",
        "predictions = classifier.predict(input_fn=lambda: input_fn(predict))\n",
        "for pred_dict in predictions:\n",
        "    class_id = pred_dict['class_ids'][0]\n",
        "    probability = pred_dict['probabilities'][class_id]\n",
        "\n",
        "    print('Prediction is \"{}\" ({:.1f}%)'.format(\n",
        "        SPECIES[class_id], 100 * probability))\n",
        "    \n",
        "\n",
        "#SepalLength: 2.4\n",
        "#SepalWidth: 2.6\n",
        "#PetalLength: 6.5\n",
        "#PetalWidth: 6.3\n"
      ],
      "execution_count": null,
      "outputs": [
        {
          "output_type": "stream",
          "text": [
            "Please type numeric values as prompted.\n",
            "SepalLength: 2.4\n",
            "SepalWidth: 2.6\n",
            "PetalLength: 6.5\n",
            "PetalWidth: 6.3\n",
            "INFO:tensorflow:Calling model_fn.\n",
            "INFO:tensorflow:Done calling model_fn.\n",
            "INFO:tensorflow:Graph was finalized.\n",
            "INFO:tensorflow:Restoring parameters from /tmp/tmpmutqifxx/model.ckpt-5000\n",
            "INFO:tensorflow:Running local_init_op.\n",
            "INFO:tensorflow:Done running local_init_op.\n",
            "Prediction is \"Virginica\" (99.7%)\n"
          ],
          "name": "stdout"
        }
      ]
    }
  ]
}