{
  "nbformat": 4,
  "nbformat_minor": 0,
  "metadata": {
    "colab": {
      "name": "TF_ML_Tutorial5_ConvolutionalNeuralNetworks.ipynb",
      "provenance": [],
      "collapsed_sections": [],
      "authorship_tag": "ABX9TyPxLlSRMIkmXWV5rxPcedv8",
      "include_colab_link": true
    },
    "kernelspec": {
      "name": "python3",
      "display_name": "Python 3"
    },
    "language_info": {
      "name": "python"
    }
  },
  "cells": [
    {
      "cell_type": "markdown",
      "metadata": {
        "id": "view-in-github",
        "colab_type": "text"
      },
      "source": [
        "<a href=\"https://colab.research.google.com/github/lschabler/TensorFlowTutorials/blob/main/TF_ML_Tutorial5_ConvolutionalNeuralNetworks.ipynb\" target=\"_parent\"><img src=\"https://colab.research.google.com/assets/colab-badge.svg\" alt=\"Open In Colab\"/></a>"
      ]
    },
    {
      "cell_type": "markdown",
      "metadata": {
        "id": "9mqznmTh--v2"
      },
      "source": [
        "**Deep Computer Vision **\n",
        "\n",
        "**Convolutional Neural Network**\n",
        "\n",
        "Each convolutional neural network is made up of one or many convolutional layers. These layers are different than the *dense* layers we have seen previously. Their goal is to find patterns from within images that can be used to classify the image or parts of it. But this may sound familiar to what our densly connected neural network in the previous section was doing, well that's becasue it is. \n",
        "\n",
        "The fundemental difference between a dense layer and a convolutional layer is that dense layers detect patterns globally while convolutional layers detect patterns locally. When we have a densly connected layer each node in that layer sees all the data from the previous layer. This means that this layer is looking at all the information and is only capable of analyzing the data in a global capacity. Our convolutional layer however will not be densly connected, this means it can detect local patterns using part of the input data to that layer.\n",
        "\n",
        "**Dense Layer:** A dense layer will consider the ENTIRE image. It will look at all the pixels and use that information to generate some output.\n",
        "\n",
        "**Convolutional Layer:** The convolutional layer will look at specific parts of the image. In this example let's say it analyzes the highlighted parts below and detects patterns there.\n",
        "\n",
        "\n",
        "\n"
      ]
    },
    {
      "cell_type": "code",
      "metadata": {
        "id": "bnIbwiK7Ohv2",
        "colab": {
          "base_uri": "https://localhost:8080/"
        },
        "outputId": "e7b8c92d-0d10-48fd-9969-9513302ce719"
      },
      "source": [
        "%tensorflow_version 2.x  # this line is not required unless you are in a notebook\n",
        "import tensorflow as tf\n",
        "\n",
        "from tensorflow.keras import datasets, layers, models\n",
        "import matplotlib.pyplot as plt\n",
        "import numpy as np\n",
        "\n",
        "#  LOAD AND SPLIT DATASET\n",
        "(train_images, train_labels), (test_images, test_labels) = datasets.cifar10.load_data()\n",
        "\n",
        "# Normalize pixel values to be between 0 and 1\n",
        "train_images, test_images = train_images / 255.0, test_images / 255.0\n",
        "\n",
        "class_names = ['airplane', 'automobile', 'bird', 'cat', 'deer',\n",
        "               'dog', 'frog', 'horse', 'ship', 'truck']\n",
        "\n",
        "# Layer 1 32 filters of size 3x3 over our input data\n",
        "model = models.Sequential()\n",
        "model.add(layers.Conv2D(32, (3, 3), activation='relu', input_shape=(32, 32, 3)))\n",
        "\n",
        "# Layer 2 max pooling operation using 2x2 samples and a stride of 2.\n",
        "model.add(layers.MaxPooling2D((2, 2)))\n",
        "model.add(layers.Conv2D(64, (3, 3), activation='relu'))\n",
        "\n",
        "# Layer increase the frequency of filters from 32 to 64. decrease depth\n",
        "model.add(layers.MaxPooling2D((2, 2)))\n",
        "model.add(layers.Conv2D(64, (3, 3), activation='relu'))\n",
        "\n",
        "model.summary()"
      ],
      "execution_count": 1,
      "outputs": [
        {
          "output_type": "stream",
          "text": [
            "`%tensorflow_version` only switches the major version: 1.x or 2.x.\n",
            "You set: `2.x  # this line is not required unless you are in a notebook`. This will be interpreted as: `2.x`.\n",
            "\n",
            "\n",
            "TensorFlow 2.x selected.\n",
            "Model: \"sequential\"\n",
            "_________________________________________________________________\n",
            "Layer (type)                 Output Shape              Param #   \n",
            "=================================================================\n",
            "conv2d (Conv2D)              (None, 30, 30, 32)        896       \n",
            "_________________________________________________________________\n",
            "max_pooling2d (MaxPooling2D) (None, 15, 15, 32)        0         \n",
            "_________________________________________________________________\n",
            "conv2d_1 (Conv2D)            (None, 13, 13, 64)        18496     \n",
            "_________________________________________________________________\n",
            "max_pooling2d_1 (MaxPooling2 (None, 6, 6, 64)          0         \n",
            "_________________________________________________________________\n",
            "conv2d_2 (Conv2D)            (None, 4, 4, 64)          36928     \n",
            "=================================================================\n",
            "Total params: 56,320\n",
            "Trainable params: 56,320\n",
            "Non-trainable params: 0\n",
            "_________________________________________________________________\n"
          ],
          "name": "stdout"
        }
      ]
    },
    {
      "cell_type": "code",
      "metadata": {
        "colab": {
          "base_uri": "https://localhost:8080/"
        },
        "id": "aem6VdZEGl6a",
        "outputId": "1e0ddeba-6666-40db-ee83-64dbdceb787e"
      },
      "source": [
        "# Add dense Layer (classify features)\n",
        "\n",
        "model.add(layers.Flatten())\n",
        "model.add(layers.Dense(64, activation='relu'))\n",
        "model.add(layers.Dense(10))\n",
        "\n",
        "model.summary()"
      ],
      "execution_count": 2,
      "outputs": [
        {
          "output_type": "stream",
          "text": [
            "Model: \"sequential\"\n",
            "_________________________________________________________________\n",
            "Layer (type)                 Output Shape              Param #   \n",
            "=================================================================\n",
            "conv2d (Conv2D)              (None, 30, 30, 32)        896       \n",
            "_________________________________________________________________\n",
            "max_pooling2d (MaxPooling2D) (None, 15, 15, 32)        0         \n",
            "_________________________________________________________________\n",
            "conv2d_1 (Conv2D)            (None, 13, 13, 64)        18496     \n",
            "_________________________________________________________________\n",
            "max_pooling2d_1 (MaxPooling2 (None, 6, 6, 64)          0         \n",
            "_________________________________________________________________\n",
            "conv2d_2 (Conv2D)            (None, 4, 4, 64)          36928     \n",
            "_________________________________________________________________\n",
            "flatten (Flatten)            (None, 1024)              0         \n",
            "_________________________________________________________________\n",
            "dense (Dense)                (None, 64)                65600     \n",
            "_________________________________________________________________\n",
            "dense_1 (Dense)              (None, 10)                650       \n",
            "=================================================================\n",
            "Total params: 122,570\n",
            "Trainable params: 122,570\n",
            "Non-trainable params: 0\n",
            "_________________________________________________________________\n"
          ],
          "name": "stdout"
        }
      ]
    },
    {
      "cell_type": "code",
      "metadata": {
        "colab": {
          "base_uri": "https://localhost:8080/"
        },
        "id": "BY7gV1OcIEju",
        "outputId": "c636f2f2-28b1-4a01-9840-ae8a332108af"
      },
      "source": [
        "# training \n",
        "\n",
        "model.compile(optimizer='adam',\n",
        "              loss=tf.keras.losses.SparseCategoricalCrossentropy(from_logits=True),\n",
        "              metrics=['accuracy'])\n",
        "\n",
        "history = model.fit(train_images, train_labels, epochs=8, \n",
        "                    validation_data=(test_images, test_labels))\n",
        "\n",
        "# evaluate\n",
        "\n",
        "test_loss, test_acc = model.evaluate(test_images,  test_labels, verbose=2)\n",
        "print(test_acc)"
      ],
      "execution_count": 3,
      "outputs": [
        {
          "output_type": "stream",
          "text": [
            "Epoch 1/8\n",
            "1563/1563 [==============================] - 76s 48ms/step - loss: 1.7993 - accuracy: 0.3341 - val_loss: 1.3642 - val_accuracy: 0.5011\n",
            "Epoch 2/8\n",
            "1563/1563 [==============================] - 76s 49ms/step - loss: 1.2817 - accuracy: 0.5377 - val_loss: 1.1399 - val_accuracy: 0.5992\n",
            "Epoch 3/8\n",
            "1563/1563 [==============================] - 82s 52ms/step - loss: 1.0857 - accuracy: 0.6162 - val_loss: 1.0812 - val_accuracy: 0.6200\n",
            "Epoch 4/8\n",
            "1563/1563 [==============================] - 78s 50ms/step - loss: 0.9712 - accuracy: 0.6567 - val_loss: 0.9556 - val_accuracy: 0.6636\n",
            "Epoch 5/8\n",
            "1563/1563 [==============================] - 76s 49ms/step - loss: 0.8911 - accuracy: 0.6874 - val_loss: 0.9399 - val_accuracy: 0.6732\n",
            "Epoch 6/8\n",
            "1563/1563 [==============================] - 75s 48ms/step - loss: 0.8307 - accuracy: 0.7044 - val_loss: 0.8823 - val_accuracy: 0.6910\n",
            "Epoch 7/8\n",
            "1563/1563 [==============================] - 78s 50ms/step - loss: 0.7755 - accuracy: 0.7286 - val_loss: 0.8708 - val_accuracy: 0.7000\n",
            "Epoch 8/8\n",
            "1563/1563 [==============================] - 76s 49ms/step - loss: 0.7290 - accuracy: 0.7417 - val_loss: 0.8926 - val_accuracy: 0.6962\n",
            "313/313 - 4s - loss: 0.8926 - accuracy: 0.6962\n",
            "0.6962000131607056\n"
          ],
          "name": "stdout"
        }
      ]
    },
    {
      "cell_type": "code",
      "metadata": {
        "colab": {
          "base_uri": "https://localhost:8080/",
          "height": 572
        },
        "id": "s2SHCnkEIyvQ",
        "outputId": "5fb138f4-82c4-4abd-a22b-21c1800b34af"
      },
      "source": [
        "predictions = model.predict(test_images)\n",
        "\n",
        "index = 0\n",
        "\n",
        "print(\"Test image \" + str(index) + \" prediction: \\n\" + str(predictions[index]))\n",
        "\n",
        "print(\"class_names\" + str(class_names))\n",
        "\n",
        "predindex = np.argmax(predictions[index])\n",
        "\n",
        "print(\"predicted: \" + class_names[predindex])\n",
        "print(\"\\n\")\n",
        "\n",
        "\n",
        "sortedindex = np.argsort(predictions[index])\n",
        "\n",
        "for val in np.flip(sortedindex):\n",
        "    print(str(predictions[index][val]) + \" \" + class_names[val])\n",
        "\n",
        "plt.figure()\n",
        "plt.imshow(train_images[index])\n",
        "plt.colorbar()\n",
        "plt.grid(False)\n",
        "plt.xlabel(class_names[train_labels[index][0]])\n",
        "plt.show()"
      ],
      "execution_count": 21,
      "outputs": [
        {
          "output_type": "stream",
          "text": [
            "Test image 0 prediction: \n",
            "[-0.7064429 -2.5865211  0.0410478  0.4793098  2.0900233 -3.6003375\n",
            " -1.7869967 -2.6117306  1.2697396 -2.5768018]\n",
            "class_names['airplane', 'automobile', 'bird', 'cat', 'deer', 'dog', 'frog', 'horse', 'ship', 'truck']\n",
            "predicted: deer\n",
            "\n",
            "\n",
            "2.0900233 deer\n",
            "1.2697396 ship\n",
            "0.4793098 cat\n",
            "0.0410478 bird\n",
            "-0.7064429 airplane\n",
            "-1.7869967 frog\n",
            "-2.5768018 truck\n",
            "-2.5865211 automobile\n",
            "-2.6117306 horse\n",
            "-3.6003375 dog\n"
          ],
          "name": "stdout"
        },
        {
          "output_type": "display_data",
          "data": {
            "image/png": "[encoded data removed]",
            "text/plain": [
              "<Figure size 432x288 with 2 Axes>"
            ]
          },
          "metadata": {
            "tags": [],
            "needs_background": "light"
          }
        }
      ]
    }
  ]
}